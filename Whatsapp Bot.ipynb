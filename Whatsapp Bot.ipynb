{
 "cells": [
  {
   "cell_type": "code",
   "execution_count": 1,
   "metadata": {},
   "outputs": [],
   "source": [
    "from selenium import webdriver\n",
    "from selenium.webdriver.common.keys import Keys\n",
    "from time import sleep\n",
    "import pickle"
   ]
  },
  {
   "cell_type": "code",
   "execution_count": 2,
   "metadata": {},
   "outputs": [],
   "source": [
    "driver=webdriver.Chrome()\n",
    "driver.get(\"https://web.whatsapp.com/\")"
   ]
  },
  {
   "cell_type": "code",
   "execution_count": 3,
   "metadata": {},
   "outputs": [],
   "source": [
    "target='Unni chechi America'\n",
    "user = driver.find_element_by_xpath('//span[@title = \"{}\"]'.format(target))\n",
    "user.click()"
   ]
  },
  {
   "cell_type": "code",
   "execution_count": 4,
   "metadata": {},
   "outputs": [],
   "source": [
    "infile = open('chatbot.pkl','rb')\n",
    "ques_ans = pickle.load(infile)\n",
    "infile.close()\n"
   ]
  },
  {
   "cell_type": "code",
   "execution_count": 11,
   "metadata": {},
   "outputs": [],
   "source": [
    "def response(new,name):\n",
    "    if(new[:6]=='!learn'):\n",
    "        msg=learn(new,name)\n",
    "    elif new[1:] in list(ques_ans.keys()):\n",
    "        msg=ques_ans[new[1:]][0]\n",
    "    else:\n",
    "        msg=\"Hey I dont know this,  maybe you could teach me\"\n",
    "    return msg\n",
    "    \n",
    "\n",
    "def learn(msg,name):\n",
    "    question=msg[msg.find('[')+1:msg.find(']')]\n",
    "    response=msg[msg.rfind('[')+1:msg.rfind(']')]\n",
    "    bad_words=['F']\n",
    "    for i in bad_words:\n",
    "        if(i in question.lower() or i in response.lower()):\n",
    "            return \"Hey {} , please refrain from teaching me such stuff\".format(name)\n",
    "    ques_ans[question.lower()]=[response.lower(),name.lower()]\n",
    "    return \"Hey {} , thanks for teaching me this\".format(name)"
   ]
  },
  {
   "cell_type": "code",
   "execution_count": 12,
   "metadata": {},
   "outputs": [
    {
     "data": {
      "text/plain": [
       "{'who am i': ['adithya', 'adithya'],\n",
       " 'hey bot': ['hey how are you , i am adithya 2.0', 'adithya'],\n",
       " 'what can you do?': ['nothing much right now, i havent been taught anything',\n",
       "  'adithya'],\n",
       " 'is adithya gay?': ['im pretty sure you are and not him', 'adithya'],\n",
       " 'do you like the name arun?': ['naaaah , i prefer jimbruttan', 'adithya'],\n",
       " 'whats today?': ['today is 7th april', 'adithya'],\n",
       " 'shutdown': ['bye...shutting...down...', 'adithya'],\n",
       " 'hey': ['hola friend', 'mi acc']}"
      ]
     },
     "execution_count": 12,
     "metadata": {},
     "output_type": "execute_result"
    }
   ],
   "source": [
    "response('!learn [Who am i]:[Adithya]','Adithya')\n",
    "response('!learn [hey bot]:[Hey how are you , I am Adithya 2.0]','Adithya')\n",
    "response('!learn [what can you do?]:[Nothing Much right now, I havent been taught anything]','Adithya')\n",
    "response('!learn [is adithya gay?]:[Im pretty sure you are and not him]','Adithya')\n",
    "response('!learn [do you like the name arun?]:[Naaaah , i prefer Jimbruttan]','Adithya')\n",
    "response('!learn [whats today?]:[Today is 7th April]','Adithya')\n",
    "response('!learn [shutdown]:[Bye...shutting...down...]','Adithya')\n",
    "ques_ans"
   ]
  },
  {
   "cell_type": "code",
   "execution_count": 13,
   "metadata": {},
   "outputs": [
    {
     "data": {
      "text/plain": [
       "'Hey I dont know this,  maybe you could teach me'"
      ]
     },
     "execution_count": 13,
     "metadata": {},
     "output_type": "execute_result"
    }
   ],
   "source": [
    "response('!hola','Adithya')"
   ]
  },
  {
   "cell_type": "code",
   "execution_count": null,
   "metadata": {},
   "outputs": [],
   "source": []
  },
  {
   "cell_type": "code",
   "execution_count": 16,
   "metadata": {},
   "outputs": [],
   "source": [
    "classi=\"GDTQm message-in focusable-list-item\".replace(\" \",\".\")\n",
    "a=list(driver.find_elements_by_class_name(classi))\n",
    "#prev=a[-1].find_element_by_class_name(\"_3-8er selectable-text copyable-text\".replace(\" \",\".\")).text\n",
    "prev=\"Unni Chechi\"\n",
    "new=\"\"\n",
    "msg=\"\"\n",
    "msg_box = driver.find_element_by_class_name('_2A8P4')"
   ]
  },
  {
   "cell_type": "code",
   "execution_count": null,
   "metadata": {},
   "outputs": [
    {
     "name": "stdout",
     "output_type": "stream",
     "text": [
      " name\n",
      "Mi Acc who am i\n"
     ]
    }
   ],
   "source": [
    "person=''\n",
    "while(1):\n",
    "    a=list(driver.find_elements_by_class_name(classi))\n",
    "    new=''\n",
    "    try:\n",
    "        new=a[-1].find_element_by_class_name(\"_3-8er selectable-text copyable-text\".replace(\" \",\".\")).text\n",
    "    except:\n",
    "        new=''\n",
    "    try:\n",
    "        person=a[-1].find_element_by_class_name(\"_1Lc2C eHxwV _3-8er\".replace(\" \",\".\")).text\n",
    "    except:\n",
    "        pass\n",
    "    if(new!='' and new[0]=='!' and (prev!=new)):\n",
    "        print(person,new[1:])\n",
    "        prev=new\n",
    "        person_prev=person\n",
    "        msg=response(new,person)\n",
    "        msg='@'+person.split(\" \")[0]+\" \"+msg\n",
    "        msg_box.send_keys(msg)\n",
    "        msg_box.send_keys(Keys.RETURN)\n",
    "        "
   ]
  },
  {
   "cell_type": "code",
   "execution_count": 91,
   "metadata": {},
   "outputs": [
    {
     "data": {
      "text/plain": [
       "{'who am i': ['adithya', 'adithya'],\n",
       " 'hey bot': ['hey how are you , i am adithya 2.0', 'adithya'],\n",
       " 'what can you do?': ['nothing much right now, i havent been taught anything',\n",
       "  'adithya'],\n",
       " 'is adithya gay?': ['im pretty sure you are and not him', 'adithya'],\n",
       " 'do you like the name arun?': ['naaaah , i prefer jimbruttan', 'adithya'],\n",
       " 'whats today?': ['today is 7th april', 'adithya'],\n",
       " 'shutdown': ['bye...shutting...down...', 'adithya'],\n",
       " 'hey': ['hola friend', 'mi acc'],\n",
       " 'aravind is from where?': ['kerala', 'mi acc']}"
      ]
     },
     "execution_count": 91,
     "metadata": {},
     "output_type": "execute_result"
    }
   ],
   "source": [
    "ques_ans"
   ]
  },
  {
   "cell_type": "code",
   "execution_count": 77,
   "metadata": {},
   "outputs": [],
   "source": [
    "outfile = open('chatbot.pkl','wb')\n",
    "pickle.dump(ques_ans,outfile)\n",
    "outfile.close()"
   ]
  },
  {
   "cell_type": "code",
   "execution_count": 31,
   "metadata": {},
   "outputs": [
    {
     "data": {
      "text/plain": [
       "'hey bot'"
      ]
     },
     "execution_count": 31,
     "metadata": {},
     "output_type": "execute_result"
    }
   ],
   "source": []
  },
  {
   "cell_type": "code",
   "execution_count": 32,
   "metadata": {},
   "outputs": [
    {
     "data": {
      "text/plain": [
       "'Hey how are you , I am Adithya 2.0'"
      ]
     },
     "execution_count": 32,
     "metadata": {},
     "output_type": "execute_result"
    }
   ],
   "source": []
  },
  {
   "cell_type": "code",
   "execution_count": 42,
   "metadata": {},
   "outputs": [],
   "source": []
  },
  {
   "cell_type": "code",
   "execution_count": 56,
   "metadata": {},
   "outputs": [],
   "source": []
  },
  {
   "cell_type": "code",
   "execution_count": 57,
   "metadata": {},
   "outputs": [],
   "source": []
  },
  {
   "cell_type": "code",
   "execution_count": 58,
   "metadata": {},
   "outputs": [],
   "source": []
  },
  {
   "cell_type": "code",
   "execution_count": 59,
   "metadata": {},
   "outputs": [
    {
     "data": {
      "text/plain": [
       "{'who am i': ['adithya', 'adithya'],\n",
       " 'hey bot': ['hey how are you , i am adithya 2.0', 'adithya'],\n",
       " 'what can you do?': ['nothing much right now, i havent been taught anything',\n",
       "  'adithya'],\n",
       " 'is adithya gay?': ['im pretty sure you are and not him', 'adithya'],\n",
       " 'do you like the name arun?': ['naaaah , i prefer jimbruttan', 'adithya'],\n",
       " 'whats today?': ['today is 7th april', 'adithya'],\n",
       " 'shutdown': ['bye...shutting...down...', 'adithya']}"
      ]
     },
     "execution_count": 59,
     "metadata": {},
     "output_type": "execute_result"
    }
   ],
   "source": [
    "new_dict"
   ]
  },
  {
   "cell_type": "code",
   "execution_count": 50,
   "metadata": {},
   "outputs": [
    {
     "data": {
      "text/plain": [
       "dict_values([['Adithya', 'Adithya']])"
      ]
     },
     "execution_count": 50,
     "metadata": {},
     "output_type": "execute_result"
    }
   ],
   "source": [
    "new_dict.values()"
   ]
  },
  {
   "cell_type": "code",
   "execution_count": null,
   "metadata": {},
   "outputs": [],
   "source": []
  }
 ],
 "metadata": {
  "kernelspec": {
   "display_name": "Python 3",
   "language": "python",
   "name": "python3"
  },
  "language_info": {
   "codemirror_mode": {
    "name": "ipython",
    "version": 3
   },
   "file_extension": ".py",
   "mimetype": "text/x-python",
   "name": "python",
   "nbconvert_exporter": "python",
   "pygments_lexer": "ipython3",
   "version": "3.7.6"
  }
 },
 "nbformat": 4,
 "nbformat_minor": 4
}
